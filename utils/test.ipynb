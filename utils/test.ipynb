{
 "cells": [
  {
   "cell_type": "code",
   "execution_count": null,
   "metadata": {},
   "outputs": [],
   "source": [
    "import os\n",
    "import sys\n",
    "import tensorflow as tf\n",
    "\n",
    "sys.path.append(os.path.dirname(os.path.abspath(os.path.dirname(__file__))))\n",
    "from config.config import get_config\n",
    "from utils.dataloader import prepare_data\n",
    "\n",
    "def test(ctrl, data_path, model_path):\n",
    "    test_x, test_y = prepare_data(data_path.replace('train', 'eval'), ctrl.replace('train', 'eval'))\n",
    "\n",
    "    test_model = tf.keras.models.load_model(model_path)\n",
    "    _, acc = test_model.evaluate(test_x, test_y, verbose=2)\n",
    "\n",
    "    return acc\n",
    "\n",
    "if __name__ == \"__main__\":\n",
    "    config = get_config()\n",
    "    ctrl = config.ctrl.replace('train', 'eval')\n",
    "    data_path = config.feat_path + '/eval'\n",
    "    model_path = config.save_path\n",
    "\n",
    "    acc = test(ctrl, data_path, model_path)\n",
    "    with open('result.txt', 'w') as f:\n",
    "        f.write(str('Accuracy : {:.3f} %'.format(acc * 100)))"
   ]
  }
 ],
 "metadata": {
  "kernelspec": {
   "display_name": "Python 3",
   "language": "python",
   "name": "python3"
  },
  "language_info": {
   "codemirror_mode": {
    "name": "ipython",
    "version": 3
   },
   "file_extension": ".py",
   "mimetype": "text/x-python",
   "name": "python",
   "nbconvert_exporter": "python",
   "pygments_lexer": "ipython3",
   "version": "3.6.12"
  }
 },
 "nbformat": 4,
 "nbformat_minor": 4
}
