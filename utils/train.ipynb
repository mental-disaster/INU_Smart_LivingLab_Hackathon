{
 "cells": [
  {
   "cell_type": "code",
   "execution_count": null,
   "metadata": {},
   "outputs": [],
   "source": [
    "import os\n",
    "import sys\n",
    "import tensorflow as tf\n",
    "\n",
    "sys.path.append(os.path.dirname(os.path.abspath(os.path.dirname(__file__))))\n",
    "from config.config import get_config\n",
    "from utils.dataloader import prepare_data\n",
    "\n",
    "class MODEL():\n",
    "    def __init__(self):\n",
    "        config = get_config()\n",
    "        self.dimension = config.mfc * 3\n",
    "        self.n_class = config.n_class\n",
    "        self.n_frame = config.n_frame\n",
    "\n",
    "    def neural_net(self):\n",
    "        inputs = tf.keras.Input([self.dimension * self.n_frame])\n",
    "        layer_1 = tf.keras.layers.Dense(64, activation=tf.nn.sigmoid)(inputs)\n",
    "        output_layer = tf.keras.layers.Dense(self.n_class, activation=tf.nn.softmax)(layer_1)\n",
    "        return tf.keras.Model(inputs=inputs, outputs=output_layer)\n",
    "\n",
    "    def train(self, ctrl, data_path, model_path):\n",
    "        train_x, train_y = prepare_data(data_path, ctrl)\n",
    "        valid_x, valid_y = prepare_data(data_path.replace('train', 'eval'), ctrl.replace('train', 'eval'))\n",
    "\n",
    "        train_model = self.neural_net()\n",
    "\n",
    "        train_model.compile(loss='categorical_crossentropy', optimizer=tf.keras.optimizers.Adam(),\n",
    "                  metrics=['accuracy'])\n",
    "        checkpoint = tf.keras.callbacks.ModelCheckpoint(filepath=model_path, verbose=0, monitor='val_accuracy',\n",
    "                                                        save_best_only=True)\n",
    "        train_model.fit(train_x, train_y, batch_size=256, epochs=20, verbose=1, validation_data=(valid_x, valid_y),\n",
    "              callbacks=[checkpoint])\n",
    "\n",
    "        train_model.load_weights(model_path)\n",
    "\n",
    "        # Save the entire model\n",
    "        train_model.save(model_path)\n",
    "\n",
    "\n",
    "if __name__ == \"__main__\":\n",
    "    config = get_config()\n",
    "\n",
    "    ctrl = config.ctrl\n",
    "    data_path = config.feat_path + '/train'\n",
    "    model_path = config.save_path\n",
    "\n",
    "    new_model = MODEL()\n",
    "    new_model.train(ctrl, data_path, model_path)"
   ]
  }
 ],
 "metadata": {
  "kernelspec": {
   "display_name": "Python 3",
   "language": "python",
   "name": "python3"
  },
  "language_info": {
   "codemirror_mode": {
    "name": "ipython",
    "version": 3
   },
   "file_extension": ".py",
   "mimetype": "text/x-python",
   "name": "python",
   "nbconvert_exporter": "python",
   "pygments_lexer": "ipython3",
   "version": "3.6.12"
  }
 },
 "nbformat": 4,
 "nbformat_minor": 4
}
