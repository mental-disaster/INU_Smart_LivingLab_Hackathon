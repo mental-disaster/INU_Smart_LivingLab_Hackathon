{
 "cells": [
  {
   "cell_type": "code",
   "execution_count": null,
   "metadata": {},
   "outputs": [],
   "source": [
    "import os\n",
    "import sys\n",
    "import numpy as np\n",
    "import random\n",
    "\n",
    "sys.path.append(os.path.dirname(os.path.abspath(os.path.dirname(__file__))))\n",
    "from config.config import get_config\n",
    "\n",
    "config = get_config()\n",
    "\n",
    "def prepare_data(data_path, ctrl):\n",
    "    with open(ctrl, 'r') as f:\n",
    "        files = f.read().splitlines()\n",
    "\n",
    "    data_shuffle, labels_shuffle = [], []\n",
    "    data_range = list(range(len(files)))\n",
    "    random.shuffle(data_range)\n",
    "\n",
    "    for s in data_range:\n",
    "        filename = files[s] + '.mfc'\n",
    "        load_path = os.path.join(data_path, filename)\n",
    "        load_feat = np.loadtxt(load_path)\n",
    "\n",
    "        # fix_frame process - Can be modified\n",
    "        if load_feat.shape != (config.mfc*3, config.n_frame):\n",
    "            load_feat = load_feat[:, :config.n_frame]\n",
    "\n",
    "        data_shuffle.append(load_feat.flatten())\n",
    "        label = files[s].split('_')[2]\n",
    "        labels_shuffle.append(int(label))\n",
    "\n",
    "    labels_shuffle = np.eye(config.n_class)[labels_shuffle]\n",
    "    return np.asarray(data_shuffle, 3), np.asarray(labels_shuffle)"
   ]
  }
 ],
 "metadata": {
  "kernelspec": {
   "display_name": "Python 3",
   "language": "python",
   "name": "python3"
  },
  "language_info": {
   "codemirror_mode": {
    "name": "ipython",
    "version": 3
   },
   "file_extension": ".py",
   "mimetype": "text/x-python",
   "name": "python",
   "nbconvert_exporter": "python",
   "pygments_lexer": "ipython3",
   "version": "3.6.12"
  }
 },
 "nbformat": 4,
 "nbformat_minor": 4
}
