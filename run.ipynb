{
 "cells": [
  {
   "cell_type": "code",
   "execution_count": 1,
   "metadata": {},
   "outputs": [
    {
     "name": "stdout",
     "output_type": "stream",
     "text": [
      "Extracting features...\n"
     ]
    }
   ],
   "source": [
    "import os\n",
    "\n",
    "from config.config import get_config\n",
    "\n",
    "config = get_config()\n",
    "\n",
    "if __name__ == \"__main__\":\n",
    "    step = config.step\n",
    "    if step < 0 or step > 2:\n",
    "        raise ValueError(\"Please enter only between 0 and 2.\")\n",
    "\n",
    "    elif step == 0:\n",
    "        print('Extracting features...')\n",
    "        os.system('python ./utils/feature_extractor.py')\n",
    "\n",
    "    elif step == 1:\n",
    "        print('Training...')\n",
    "        os.system('python ./utils/train.py')\n",
    "\n",
    "    else:\n",
    "        print('Evaluating...')\n",
    "        os.system('python ./utils/test.py')"
   ]
  },
  {
   "cell_type": "code",
   "execution_count": null,
   "metadata": {},
   "outputs": [],
   "source": []
  }
 ],
 "metadata": {
  "kernelspec": {
   "display_name": "Python 3",
   "language": "python",
   "name": "python3"
  },
  "language_info": {
   "codemirror_mode": {
    "name": "ipython",
    "version": 3
   },
   "file_extension": ".py",
   "mimetype": "text/x-python",
   "name": "python",
   "nbconvert_exporter": "python",
   "pygments_lexer": "ipython3",
   "version": "3.6.12"
  }
 },
 "nbformat": 4,
 "nbformat_minor": 4
}
