{
 "cells": [
  {
   "cell_type": "code",
   "execution_count": null,
   "metadata": {},
   "outputs": [],
   "source": [
    "import argparse\n",
    "\n",
    "parser = argparse.ArgumentParser()\n",
    "\n",
    "def get_config():\n",
    "    config, unparsed = parser.parse_known_args()\n",
    "    return config\n",
    "\n",
    "\n",
    "def str2bool(v):\n",
    "    if v.lower() in ('yes', 'true', 'y', 't', '1'):\n",
    "        return True\n",
    "    elif v.lower() in ('no', 'false', 'n', 'f', '0'):\n",
    "        return False\n",
    "    else:\n",
    "        raise argparse.ArgumentTypeError('Boolean value expected.')\n",
    "\n",
    "# STEP\n",
    "parser.add_argument('--step', type=int, default=0, help='Running step')\n",
    "\n",
    "# PATH\n",
    "parser.add_argument('--ctrl', type=str, default='./data/us8k_ish_train.ctl', help='Path for ctrl file')\n",
    "parser.add_argument('--data_path', type=str, default='./data', help='Path to the dataset')\n",
    "parser.add_argument('--feat_path', type=str, default='./data/feature', help='Path to the feature')\n",
    "parser.add_argument('--save_path', type=str, default='./model/model.h5', help='Path for model')\n",
    "\n",
    "# AUDIO\n",
    "parser.add_argument('--n_fft', type=int, default=1024, help='Number of FFT components')\n",
    "parser.add_argument('--sr', type=int, default=16000, help='Sampling rate of incoming signal')\n",
    "parser.add_argument('--win_len', type=int, default=200, help='Number of samples between successive frames')\n",
    "parser.add_argument('--hop_len', type=int, default=400, help='Each frame of audio is windowed by window()')\n",
    "parser.add_argument('--mfc', type=int, default=13, help='Feature dimension of MFCC')\n",
    "parser.add_argument('--filter', type=int, default=23, help='Number of Mel bands to generate for MFCC')\n",
    "\n",
    "# MODEL\n",
    "parser.add_argument('--n_class', type=int, default=10, help='Number of classes')\n",
    "parser.add_argument('--n_frame', type=int, default=161, help='Number of frames')"
   ]
  }
 ],
 "metadata": {
  "kernelspec": {
   "display_name": "Python 3",
   "language": "python",
   "name": "python3"
  },
  "language_info": {
   "codemirror_mode": {
    "name": "ipython",
    "version": 3
   },
   "file_extension": ".py",
   "mimetype": "text/x-python",
   "name": "python",
   "nbconvert_exporter": "python",
   "pygments_lexer": "ipython3",
   "version": "3.6.12"
  }
 },
 "nbformat": 4,
 "nbformat_minor": 4
}
